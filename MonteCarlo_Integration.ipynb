{
  "nbformat": 4,
  "nbformat_minor": 0,
  "metadata": {
    "colab": {
      "provenance": []
    },
    "kernelspec": {
      "name": "python3",
      "display_name": "Python 3"
    },
    "language_info": {
      "name": "python"
    }
  },
  "cells": [
    {
      "cell_type": "code",
      "execution_count": 66,
      "metadata": {
        "id": "uvb4lWKZOETa"
      },
      "outputs": [],
      "source": [
        "import numpy as np\n",
        "import matplotlib.pyplot as plt\n",
        "from scipy.integrate import quad\n"
      ]
    },
    {
      "cell_type": "code",
      "source": [
        "\n",
        "\n",
        "def f1(x):\n",
        "    return np.sin(x) + 2**np.cos(x) + np.sqrt(2*x)\n",
        "\n"
      ],
      "metadata": {
        "id": "b901WJD2OrjY"
      },
      "execution_count": 5,
      "outputs": []
    },
    {
      "cell_type": "code",
      "source": [
        "x = np.arange(0,4.1,0.1)\n",
        "y = f1(x)"
      ],
      "metadata": {
        "id": "sRevOqi_Q_B0"
      },
      "execution_count": 67,
      "outputs": []
    },
    {
      "cell_type": "code",
      "source": [
        "def monte_carlo(func,\n",
        "                a=0,\n",
        "                b=1,\n",
        "                n=1000):\n",
        "    \"\"\"\n",
        "    Monte Carlo integration\n",
        "    \"\"\"\n",
        "    x = np.random.uniform(a, b, n)  # Uniform random samples between a and b\n",
        "    fx = func(x)  # Evaluate the function at those points\n",
        "    integral = (b - a) * np.mean(fx)  # Multiply by the length of the interval\n",
        "    return integral"
      ],
      "metadata": {
        "id": "AmcfzEnTSACQ"
      },
      "execution_count": 76,
      "outputs": []
    },
    {
      "cell_type": "code",
      "source": [
        "a=1\n",
        "b=10\n",
        "n=100\n",
        "print(monte_carlo(f1,a,b,n))\n",
        "print(\";;;;;;;\")\n",
        "\n",
        "result, error = quad(f1, a, b)\n",
        "\n",
        "print(f\"Exact Integral using quad: {result}\")\n",
        "print(f\"Error Estimate: {error}\")"
      ],
      "metadata": {
        "colab": {
          "base_uri": "https://localhost:8080/"
        },
        "id": "6_RaunccSIHx",
        "outputId": "b1c54547-5b1d-4f33-dfbe-8193a5d81807"
      },
      "execution_count": 80,
      "outputs": [
        {
          "output_type": "stream",
          "name": "stdout",
          "text": [
            "39.08240688680311\n",
            ";;;;;;;\n",
            "39.68360145959993\n",
            ";;;;;;;\n",
            "39.132855354618975\n",
            "Exact Integral using quad: 39.34085065742052\n",
            "Error Estimate: 6.500758542582474e-09\n"
          ]
        }
      ]
    }
  ]
}